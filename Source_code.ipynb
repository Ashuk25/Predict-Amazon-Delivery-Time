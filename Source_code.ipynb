{
 "cells": [
  {
   "cell_type": "code",
   "execution_count": 1,
   "id": "5fb56686",
   "metadata": {},
   "outputs": [],
   "source": [
    "# fetch the train and test data\n",
    "import pandas as pd\n",
    "\n",
    "train = pd.read_csv(\"train.csv\", index_col=\"ID\")\n",
    "test = pd.read_csv(\"test.csv\", index_col=\"ID\")"
   ]
  },
  {
   "cell_type": "code",
   "execution_count": 2,
   "id": "4f6bd4f0",
   "metadata": {},
   "outputs": [],
   "source": [
    "# drop the missing row from target column\n",
    "train.dropna(axis=0, subset=['Time_taken (min)'], inplace=True)\n",
    "\n",
    "# assign target column to a variable\n",
    "target_col = train['Time_taken (min)']\n",
    "\n",
    "# drop target column from training data\n",
    "train.drop(['Time_taken (min)'], axis=1, inplace=True)"
   ]
  },
  {
   "cell_type": "code",
   "execution_count": 3,
   "id": "04c8d1ed",
   "metadata": {},
   "outputs": [],
   "source": [
    "# Split the training and validation set from training data \n",
    "from sklearn.model_selection import train_test_split\n",
    "\n",
    "train_x, valid_x, train_target_y, valid_target_y = train_test_split(train,target_col,train_size=0.8,test_size=0.2, random_state=0)"
   ]
  },
  {
   "cell_type": "code",
   "execution_count": 4,
   "id": "3ce1145e",
   "metadata": {},
   "outputs": [],
   "source": [
    "# Select numeric columns from train data\n",
    "numeric_cols = [cname for cname in train_x.columns if train_x[cname].dtype in ['int64','float64']]\n",
    "\n",
    "# Select categorical columns with relatively low cardinality (convenient but arbitrary)\n",
    "low_cardinality_cols = [cname for cname in train_x.columns if train_x[cname].nunique() < 10 and \n",
    "                        train_x[cname].dtype == \"object\"]"
   ]
  },
  {
   "cell_type": "code",
   "execution_count": 5,
   "id": "42e10051",
   "metadata": {},
   "outputs": [],
   "source": [
    "# Keep selected columns only\n",
    "my_cols = low_cardinality_cols + numeric_cols\n",
    "train_x1 = train_x[my_cols].copy()\n",
    "valid_x1 = valid_x[my_cols].copy()\n",
    "test_x = test[my_cols].copy()"
   ]
  },
  {
   "cell_type": "code",
   "execution_count": 6,
   "id": "8e8e703b",
   "metadata": {},
   "outputs": [],
   "source": [
    "#One-hot encode the data (to shorten the code, we use pandas)\n",
    "train_x1 = pd.get_dummies(train_x1)\n",
    "valid_x1 = pd.get_dummies(valid_x1)\n",
    "test_x = pd.get_dummies(test_x)\n",
    "train_x1, valid_x1 = train_x1.align(valid_x1, join='left', axis=1)\n",
    "train_x1, test_x = train_x1.align(test_x, join='left', axis=1)"
   ]
  },
  {
   "cell_type": "code",
   "execution_count": 8,
   "id": "f631f048",
   "metadata": {},
   "outputs": [],
   "source": [
    "#Build the model and create the piple\n",
    "from sklearn.pipeline import Pipeline\n",
    "from sklearn.impute import SimpleImputer\n",
    "from xgboost import XGBRegressor\n",
    "\n",
    "# Define the model\n",
    "model = XGBRegressor(n_estimators=1250, learning_rate=0.05, random_state=0)\n",
    "\n",
    "# Bundle preprocessing and modeling code in a pipeline\n",
    "my_pipeline = Pipeline(steps=[('preprocessor', SimpleImputer(strategy='median')),\n",
    "                              ('model', model)\n",
    "                             ])\n"
   ]
  },
  {
   "cell_type": "code",
   "execution_count": 9,
   "id": "620f340b",
   "metadata": {},
   "outputs": [
    {
     "name": "stdout",
     "output_type": "stream",
     "text": [
      "Mean Absolute Error: 3.4902959290872686\n"
     ]
    }
   ],
   "source": [
    "# fit the model, predict the result and find the MAE score\n",
    "\n",
    "from sklearn.metrics import mean_absolute_error\n",
    "\n",
    "# Fit the model\n",
    "my_pipeline.fit(train_x1,train_target_y)\n",
    "\n",
    "# Get predictions\n",
    "predictions = my_pipeline.predict(valid_x1)\n",
    "\n",
    "# Calculate MAE\n",
    "mae = mean_absolute_error(valid_target_y, predictions)\n",
    "\n",
    "print(\"Mean Absolute Error:\" , mae)"
   ]
  },
  {
   "cell_type": "code",
   "execution_count": 10,
   "id": "095692b4",
   "metadata": {},
   "outputs": [],
   "source": [
    "# predict the result from test data\n",
    "\n",
    "preds_test = my_pipeline.predict(test_x)"
   ]
  },
  {
   "cell_type": "code",
   "execution_count": 11,
   "id": "3d4f37d7",
   "metadata": {},
   "outputs": [],
   "source": [
    "#Save test predictions to file\n",
    "output = pd.DataFrame({'ID': test_x.index,\n",
    "                       'Time_taken (min)': preds_test})\n",
    "output.to_csv('sample_submission.csv', index=False)"
   ]
  },
  {
   "cell_type": "code",
   "execution_count": null,
   "id": "331ded1a",
   "metadata": {},
   "outputs": [],
   "source": []
  }
 ],
 "metadata": {
  "kernelspec": {
   "display_name": "Python 3 (ipykernel)",
   "language": "python",
   "name": "python3"
  },
  "language_info": {
   "codemirror_mode": {
    "name": "ipython",
    "version": 3
   },
   "file_extension": ".py",
   "mimetype": "text/x-python",
   "name": "python",
   "nbconvert_exporter": "python",
   "pygments_lexer": "ipython3",
   "version": "3.11.0"
  }
 },
 "nbformat": 4,
 "nbformat_minor": 5
}
